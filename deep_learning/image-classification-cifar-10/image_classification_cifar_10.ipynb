{
  "nbformat": 4,
  "nbformat_minor": 0,
  "metadata": {
    "kernelspec": {
      "name": "python3",
      "display_name": "Python 3",
      "language": "python"
    },
    "language_info": {
      "name": "python",
      "version": "3.7.6",
      "mimetype": "text/x-python",
      "codemirror_mode": {
        "name": "ipython",
        "version": 3
      },
      "pygments_lexer": "ipython3",
      "nbconvert_exporter": "python",
      "file_extension": ".py"
    },
    "colab": {
      "name": "image-classification-cifar-10.ipynb",
      "provenance": [],
      "private_outputs": true,
      "toc_visible": true
    },
    "accelerator": "TPU"
  },
  "cells": [
    {
      "cell_type": "markdown",
      "metadata": {
        "id": "DJuD4PqWD211"
      },
      "source": [
        "# Image Classification with CNN using Keras"
      ]
    },
    {
      "cell_type": "markdown",
      "metadata": {
        "id": "IMh4H-4HINPd"
      },
      "source": [
        "## image classification\n",
        "\n",
        "1.<a href = \"#\" >Import Libraries</a>\n",
        "\n",
        "2.<a>Preprocess Data</a>\n",
        "\n",
        "3.<a>Visualize Examples</a>\n",
        "\n",
        "4.<a>Create Model</a>\n",
        "\n",
        "5.<a>Train the Model</a>\n",
        "\n",
        "6.<a>Final Predictions</a>"
      ]
    },
    {
      "cell_type": "markdown",
      "metadata": {
        "id": "5MPvRuUaD213"
      },
      "source": [
        "# Task 1: Import Libraries"
      ]
    },
    {
      "cell_type": "code",
      "metadata": {
        "trusted": true,
        "id": "v0lH0-kkINPg"
      },
      "source": [
        "import tensorflow as tf\n",
        "import os\n",
        "import numpy as np\n",
        "from keras.callbacks import EarlyStopping,ModelCheckpoint\n",
        "from tensorflow.keras.layers import Conv2D, MaxPooling2D, BatchNormalization\n",
        "from tensorflow.keras.layers import Dropout, Flatten, Input, Dense,Activation\n",
        "from sklearn.preprocessing import MultiLabelBinarizer\n",
        "from sklearn.preprocessing import LabelEncoder\n",
        "from sklearn import metrics\n",
        "from keras.utils import np_utils\n",
        "from matplotlib import pyplot as plt\n",
        "%matplotlib inline"
      ],
      "execution_count": null,
      "outputs": []
    },
    {
      "cell_type": "code",
      "metadata": {
        "id": "5F0Vc_eRD215",
        "trusted": true
      },
      "source": [
        "if not os.path.isdir('models'):\n",
        "    os.mkdir('models')\n",
        "    \n",
        "print('TensorFlow version:', tf.__version__)\n",
        "print('Is using GPU?', tf.test.is_gpu_available())"
      ],
      "execution_count": null,
      "outputs": []
    },
    {
      "cell_type": "markdown",
      "metadata": {
        "id": "nDAhpSEtD22B"
      },
      "source": [
        "# Task 2: Preprocess Data"
      ]
    },
    {
      "cell_type": "code",
      "metadata": {
        "id": "8wHU0syCD22J",
        "trusted": true
      },
      "source": [
        "(x_train , y_train) ,(x_test , y_test) = tf.keras.datasets.cifar10.load_data()"
      ],
      "execution_count": null,
      "outputs": []
    },
    {
      "cell_type": "code",
      "metadata": {
        "trusted": true,
        "id": "jldF00PVINQI"
      },
      "source": [
        "print(\"x_train shape is : \" , x_train.shape)\n",
        "print(\"y_train shape is : \" , y_train.shape)\n",
        "print(\"x_test shape is : \" , x_test.shape)\n",
        "print(\"y_test shape is : \" , y_test.shape)"
      ],
      "execution_count": null,
      "outputs": []
    },
    {
      "cell_type": "code",
      "metadata": {
        "trusted": true,
        "id": "afSJwvnlINQO"
      },
      "source": [
        "# x_train , y_train = get_three_classes(x_train , y_train)\n",
        "# y_train[0]"
      ],
      "execution_count": null,
      "outputs": []
    },
    {
      "cell_type": "markdown",
      "metadata": {
        "id": "eE8wDHrAD22Q"
      },
      "source": [
        "# Task 3: Visualize Examples"
      ]
    },
    {
      "cell_type": "code",
      "metadata": {
        "id": "CFPO8GxiD22R",
        "trusted": true
      },
      "source": [
        "class_names = ['aeroplane', 'car', 'bird','cat','deer','dog','frog','horse','ship','truck']"
      ],
      "execution_count": null,
      "outputs": []
    },
    {
      "cell_type": "markdown",
      "metadata": {
        "id": "DDffd-G-INQf"
      },
      "source": [
        "## finction to return class name "
      ]
    },
    {
      "cell_type": "code",
      "metadata": {
        "trusted": true,
        "id": "wwfehni9INQg"
      },
      "source": [
        "# return class name\n",
        "def class_name(label):\n",
        "    return class_names[label]"
      ],
      "execution_count": null,
      "outputs": []
    },
    {
      "cell_type": "code",
      "metadata": {
        "trusted": true,
        "id": "F0ZM8UsWINQm"
      },
      "source": [
        "# visualize some of image\n",
        "plt.figure(figsize = (20,10))\n",
        "for i in range(10):\n",
        "    plt.subplot(2,5,i+1)\n",
        "    index = np.random.choice(x_train.shape[0] , 1 , replace =False)\n",
        "    plt.imshow(x_train[int(index)])\n",
        "    plt.xticks([])\n",
        "    plt.yticks([])\n",
        "    plt.xlabel(class_name(int(y_train[index])))\n",
        "    "
      ],
      "execution_count": null,
      "outputs": []
    },
    {
      "cell_type": "code",
      "metadata": {
        "id": "yuE5pMAZRHjn"
      },
      "source": [
        "## convert y_train into one hot encoder\n",
        "\n",
        "encoder = LabelEncoder()\n",
        "encoder.fit(y_train)\n",
        "y_train = encoder.transform(y_train)\n",
        "# convert integers to dummy variables (i.e. one hot encoded)\n",
        "y_train = np_utils.to_categorical(y_train)"
      ],
      "execution_count": null,
      "outputs": []
    },
    {
      "cell_type": "code",
      "metadata": {
        "id": "nnvWCpGdS79T"
      },
      "source": [
        "y_train.shape"
      ],
      "execution_count": null,
      "outputs": []
    },
    {
      "cell_type": "code",
      "metadata": {
        "id": "WMoL8sSsWatR"
      },
      "source": [
        "# convert y_test into one hot encoder\n",
        "\n",
        "encoder = LabelEncoder()\n",
        "encoder.fit(y_test)\n",
        "y_test = encoder.transform(y_test)\n",
        "# convert integers to dummy variables (i.e. one hot encoded)\n",
        "y_test = np_utils.to_categorical(y_test)"
      ],
      "execution_count": null,
      "outputs": []
    },
    {
      "cell_type": "code",
      "metadata": {
        "id": "vVrQQ_J1WHTe"
      },
      "source": [
        "y_test[1000]"
      ],
      "execution_count": null,
      "outputs": []
    },
    {
      "cell_type": "markdown",
      "metadata": {
        "id": "fKfgKPJrD22d"
      },
      "source": [
        "# Task 4: Create Model"
      ]
    },
    {
      "cell_type": "code",
      "metadata": {
        "id": "XgCsv3oID22f",
        "trusted": true
      },
      "source": [
        "def create_model():\n",
        "    def add_conv_block(model , num_filters):\n",
        "        model.add(Conv2D(num_filters , 3 , activation = 'relu' , padding ='same'))\n",
        "        model.add(BatchNormalization())\n",
        "        model.add(Conv2D(num_filters , 3 , activation = 'relu'))\n",
        "        model.add(MaxPooling2D(pool_size = 2))\n",
        "        model.add(Dropout(0.5))\n",
        "        return model\n",
        "    \n",
        "    \n",
        "    model = tf.keras.models.Sequential()\n",
        "    model.add(Input(shape=(32,32,3)))\n",
        "    model = add_conv_block(model ,32)\n",
        "    model = add_conv_block(model ,64)\n",
        "    model = add_conv_block(model ,128)\n",
        "    model.add(Flatten())\n",
        "    model.add(Dense(10 , activation = 'softmax'))\n",
        "    \n",
        "    model.compile(\n",
        "        loss = 'categorical_crossentropy',\n",
        "        optimizer = 'adam' , metrics = ['acc']\n",
        "        \n",
        "    )\n",
        "    \n",
        "    return model\n",
        "\n",
        "model = create_model()\n",
        "model.summary()    "
      ],
      "execution_count": null,
      "outputs": []
    },
    {
      "cell_type": "markdown",
      "metadata": {
        "id": "Mi60ef96INQ1"
      },
      "source": [
        "# Task 5: Train the Model"
      ]
    },
    {
      "cell_type": "code",
      "metadata": {
        "id": "GQYwYWo4D22n",
        "trusted": true
      },
      "source": [
        "h = model.fit(\n",
        "\n",
        "    x_train/255.0 , y_train ,\n",
        "    validation_data = (x_test/255.0 , y_test),\n",
        "    epochs = 10 , batch_size = 128,\n",
        "    callbacks = [\n",
        "        EarlyStopping(monitor='val_accuracy'),\n",
        "        ModelCheckpoint('model.h5', save_best_only=True ,monitor = 'val_accuracy')\n",
        "        \n",
        "        ]\n",
        "\n",
        ")"
      ],
      "execution_count": null,
      "outputs": []
    },
    {
      "cell_type": "markdown",
      "metadata": {
        "id": "kI2wKxndD22v"
      },
      "source": [
        "# Task 6: Final Predictions"
      ]
    },
    {
      "cell_type": "code",
      "metadata": {
        "id": "BX3c_R1qcojH"
      },
      "source": [
        "test_pred = model.predict(x_test/255.0)\n",
        "test_pred[0]"
      ],
      "execution_count": null,
      "outputs": []
    },
    {
      "cell_type": "code",
      "metadata": {
        "id": "jueiduFmkOY6"
      },
      "source": [
        "y_test[5]"
      ],
      "execution_count": null,
      "outputs": []
    },
    {
      "cell_type": "code",
      "metadata": {
        "id": "pMp8bFvyjy3a"
      },
      "source": [
        "np.argmax(y_test[5])"
      ],
      "execution_count": null,
      "outputs": []
    },
    {
      "cell_type": "code",
      "metadata": {
        "id": "fM5XXMWGh1zH"
      },
      "source": [
        "## visualize some data\n",
        "\n",
        "# visualize some of image\n",
        "plt.figure(figsize = (20,10))\n",
        "for i in range(10):\n",
        "    plt.subplot(2,5,i+1)\n",
        "    index = np.random.choice(x_test.shape[0] , 1 , replace =False)\n",
        "    plt.imshow(x_test[int(index)])\n",
        "    plt.xticks([])\n",
        "    plt.yticks([])\n",
        "\n",
        "    if np.argmax(test_pred[index]) == np.argmax(y_test[index]):\n",
        "\n",
        "      plt.xlabel(class_name(np.argmax(test_pred[index]))  , color = 'green')\n",
        "    else:\n",
        "      plt.xlabel(class_name(np.argmax(test_pred[index]))  , color = 'red')\n",
        "\n"
      ],
      "execution_count": null,
      "outputs": []
    },
    {
      "cell_type": "code",
      "metadata": {
        "id": "jHka5T7Fhp--"
      },
      "source": [
        "np.argmax(test_pred[0])"
      ],
      "execution_count": null,
      "outputs": []
    },
    {
      "cell_type": "code",
      "metadata": {
        "id": "nU2s90P5D22w",
        "trusted": true
      },
      "source": [
        "accs = h.history['acc']\n",
        "val_acc = h.history['val_acc']\n",
        "\n",
        "plt.plot(range(len(accs)) , accs , label = 'trainning')\n",
        "plt.plot(range(len(accs)) , val_acc , label = 'validation')\n",
        "plt.legend()"
      ],
      "execution_count": null,
      "outputs": []
    },
    {
      "cell_type": "code",
      "metadata": {
        "id": "-N67d_K-D222",
        "trusted": true
      },
      "source": [
        "train_pred = model.predict(x_train)"
      ],
      "execution_count": null,
      "outputs": []
    },
    {
      "cell_type": "code",
      "metadata": {
        "id": "bKhVbKrkD227",
        "trusted": true
      },
      "source": [
        "# draw confusion matrix\n",
        "\n",
        "matrix = metrics.confusion_matrix(y_test.argmax(axis=1), test_pred.argmax(axis=1))\n",
        "matrix"
      ],
      "execution_count": null,
      "outputs": []
    }
  ]
}